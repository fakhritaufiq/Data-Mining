{
  "nbformat": 4,
  "nbformat_minor": 0,
  "metadata": {
    "colab": {
      "name": "K-Means Tugas Damin.ipynb",
      "provenance": [],
      "toc_visible": true
    },
    "kernelspec": {
      "name": "python3",
      "display_name": "Python 3"
    }
  },
  "cells": [
    {
      "cell_type": "code",
      "metadata": {
        "id": "1dSZmLgXk8yS",
        "colab_type": "code",
        "colab": {}
      },
      "source": [
        "import pandas as pd\n",
        "import numpy as np\n",
        "import matplotlib.pyplot as plt\n",
        "from sklearn.cluster import KMeans"
      ],
      "execution_count": 0,
      "outputs": []
    },
    {
      "cell_type": "code",
      "metadata": {
        "id": "hsloMkM5xnAi",
        "colab_type": "code",
        "outputId": "56cd046b-ea98-4a9c-e85c-9443b03b76a2",
        "colab": {
          "base_uri": "https://localhost:8080/",
          "height": 204
        }
      },
      "source": [
        "df = pd.read_csv(\"go_track_tracks.csv\")\n",
        "df.head()"
      ],
      "execution_count": 115,
      "outputs": [
        {
          "output_type": "execute_result",
          "data": {
            "text/html": [
              "<div>\n",
              "<style scoped>\n",
              "    .dataframe tbody tr th:only-of-type {\n",
              "        vertical-align: middle;\n",
              "    }\n",
              "\n",
              "    .dataframe tbody tr th {\n",
              "        vertical-align: top;\n",
              "    }\n",
              "\n",
              "    .dataframe thead th {\n",
              "        text-align: right;\n",
              "    }\n",
              "</style>\n",
              "<table border=\"1\" class=\"dataframe\">\n",
              "  <thead>\n",
              "    <tr style=\"text-align: right;\">\n",
              "      <th></th>\n",
              "      <th>id</th>\n",
              "      <th>id_android</th>\n",
              "      <th>speed</th>\n",
              "      <th>time</th>\n",
              "      <th>distance</th>\n",
              "      <th>rating</th>\n",
              "      <th>rating_bus</th>\n",
              "      <th>rating_weather</th>\n",
              "      <th>car_or_bus</th>\n",
              "      <th>linha</th>\n",
              "    </tr>\n",
              "  </thead>\n",
              "  <tbody>\n",
              "    <tr>\n",
              "      <th>0</th>\n",
              "      <td>1</td>\n",
              "      <td>0</td>\n",
              "      <td>19.210586</td>\n",
              "      <td>0.138049</td>\n",
              "      <td>2.652</td>\n",
              "      <td>3</td>\n",
              "      <td>0</td>\n",
              "      <td>0</td>\n",
              "      <td>1</td>\n",
              "      <td>NaN</td>\n",
              "    </tr>\n",
              "    <tr>\n",
              "      <th>1</th>\n",
              "      <td>2</td>\n",
              "      <td>0</td>\n",
              "      <td>30.848229</td>\n",
              "      <td>0.171485</td>\n",
              "      <td>5.290</td>\n",
              "      <td>3</td>\n",
              "      <td>0</td>\n",
              "      <td>0</td>\n",
              "      <td>1</td>\n",
              "      <td>NaN</td>\n",
              "    </tr>\n",
              "    <tr>\n",
              "      <th>2</th>\n",
              "      <td>3</td>\n",
              "      <td>1</td>\n",
              "      <td>13.560101</td>\n",
              "      <td>0.067699</td>\n",
              "      <td>0.918</td>\n",
              "      <td>3</td>\n",
              "      <td>0</td>\n",
              "      <td>0</td>\n",
              "      <td>2</td>\n",
              "      <td>NaN</td>\n",
              "    </tr>\n",
              "    <tr>\n",
              "      <th>3</th>\n",
              "      <td>4</td>\n",
              "      <td>1</td>\n",
              "      <td>19.766679</td>\n",
              "      <td>0.389544</td>\n",
              "      <td>7.700</td>\n",
              "      <td>3</td>\n",
              "      <td>0</td>\n",
              "      <td>0</td>\n",
              "      <td>2</td>\n",
              "      <td>NaN</td>\n",
              "    </tr>\n",
              "    <tr>\n",
              "      <th>4</th>\n",
              "      <td>8</td>\n",
              "      <td>0</td>\n",
              "      <td>25.807401</td>\n",
              "      <td>0.154801</td>\n",
              "      <td>3.995</td>\n",
              "      <td>2</td>\n",
              "      <td>0</td>\n",
              "      <td>0</td>\n",
              "      <td>1</td>\n",
              "      <td>NaN</td>\n",
              "    </tr>\n",
              "  </tbody>\n",
              "</table>\n",
              "</div>"
            ],
            "text/plain": [
              "   id  id_android      speed  ...  rating_weather  car_or_bus  linha\n",
              "0   1           0  19.210586  ...               0           1    NaN\n",
              "1   2           0  30.848229  ...               0           1    NaN\n",
              "2   3           1  13.560101  ...               0           2    NaN\n",
              "3   4           1  19.766679  ...               0           2    NaN\n",
              "4   8           0  25.807401  ...               0           1    NaN\n",
              "\n",
              "[5 rows x 10 columns]"
            ]
          },
          "metadata": {
            "tags": []
          },
          "execution_count": 115
        }
      ]
    },
    {
      "cell_type": "code",
      "metadata": {
        "id": "SASxg0pVxuk2",
        "colab_type": "code",
        "outputId": "14ed4c32-5c23-47d4-9f2e-34b0e18ff002",
        "colab": {
          "base_uri": "https://localhost:8080/",
          "height": 204
        }
      },
      "source": [
        "df = df.drop([\"linha\", \"car_or_bus\",\"rating_weather\", \"rating_bus\",\"rating\",\"time\"], axis = 1)\n",
        "df.head()"
      ],
      "execution_count": 116,
      "outputs": [
        {
          "output_type": "execute_result",
          "data": {
            "text/html": [
              "<div>\n",
              "<style scoped>\n",
              "    .dataframe tbody tr th:only-of-type {\n",
              "        vertical-align: middle;\n",
              "    }\n",
              "\n",
              "    .dataframe tbody tr th {\n",
              "        vertical-align: top;\n",
              "    }\n",
              "\n",
              "    .dataframe thead th {\n",
              "        text-align: right;\n",
              "    }\n",
              "</style>\n",
              "<table border=\"1\" class=\"dataframe\">\n",
              "  <thead>\n",
              "    <tr style=\"text-align: right;\">\n",
              "      <th></th>\n",
              "      <th>id</th>\n",
              "      <th>id_android</th>\n",
              "      <th>speed</th>\n",
              "      <th>distance</th>\n",
              "    </tr>\n",
              "  </thead>\n",
              "  <tbody>\n",
              "    <tr>\n",
              "      <th>0</th>\n",
              "      <td>1</td>\n",
              "      <td>0</td>\n",
              "      <td>19.210586</td>\n",
              "      <td>2.652</td>\n",
              "    </tr>\n",
              "    <tr>\n",
              "      <th>1</th>\n",
              "      <td>2</td>\n",
              "      <td>0</td>\n",
              "      <td>30.848229</td>\n",
              "      <td>5.290</td>\n",
              "    </tr>\n",
              "    <tr>\n",
              "      <th>2</th>\n",
              "      <td>3</td>\n",
              "      <td>1</td>\n",
              "      <td>13.560101</td>\n",
              "      <td>0.918</td>\n",
              "    </tr>\n",
              "    <tr>\n",
              "      <th>3</th>\n",
              "      <td>4</td>\n",
              "      <td>1</td>\n",
              "      <td>19.766679</td>\n",
              "      <td>7.700</td>\n",
              "    </tr>\n",
              "    <tr>\n",
              "      <th>4</th>\n",
              "      <td>8</td>\n",
              "      <td>0</td>\n",
              "      <td>25.807401</td>\n",
              "      <td>3.995</td>\n",
              "    </tr>\n",
              "  </tbody>\n",
              "</table>\n",
              "</div>"
            ],
            "text/plain": [
              "   id  id_android      speed  distance\n",
              "0   1           0  19.210586     2.652\n",
              "1   2           0  30.848229     5.290\n",
              "2   3           1  13.560101     0.918\n",
              "3   4           1  19.766679     7.700\n",
              "4   8           0  25.807401     3.995"
            ]
          },
          "metadata": {
            "tags": []
          },
          "execution_count": 116
        }
      ]
    },
    {
      "cell_type": "code",
      "metadata": {
        "id": "SJGi5CSVyuM7",
        "colab_type": "code",
        "outputId": "0b11c55e-42d6-4aa1-c983-9e581663255f",
        "colab": {
          "base_uri": "https://localhost:8080/",
          "height": 204
        }
      },
      "source": [
        "df_x = df.iloc[:, 2:4]\n",
        "df_x.head()"
      ],
      "execution_count": 117,
      "outputs": [
        {
          "output_type": "execute_result",
          "data": {
            "text/html": [
              "<div>\n",
              "<style scoped>\n",
              "    .dataframe tbody tr th:only-of-type {\n",
              "        vertical-align: middle;\n",
              "    }\n",
              "\n",
              "    .dataframe tbody tr th {\n",
              "        vertical-align: top;\n",
              "    }\n",
              "\n",
              "    .dataframe thead th {\n",
              "        text-align: right;\n",
              "    }\n",
              "</style>\n",
              "<table border=\"1\" class=\"dataframe\">\n",
              "  <thead>\n",
              "    <tr style=\"text-align: right;\">\n",
              "      <th></th>\n",
              "      <th>speed</th>\n",
              "      <th>distance</th>\n",
              "    </tr>\n",
              "  </thead>\n",
              "  <tbody>\n",
              "    <tr>\n",
              "      <th>0</th>\n",
              "      <td>19.210586</td>\n",
              "      <td>2.652</td>\n",
              "    </tr>\n",
              "    <tr>\n",
              "      <th>1</th>\n",
              "      <td>30.848229</td>\n",
              "      <td>5.290</td>\n",
              "    </tr>\n",
              "    <tr>\n",
              "      <th>2</th>\n",
              "      <td>13.560101</td>\n",
              "      <td>0.918</td>\n",
              "    </tr>\n",
              "    <tr>\n",
              "      <th>3</th>\n",
              "      <td>19.766679</td>\n",
              "      <td>7.700</td>\n",
              "    </tr>\n",
              "    <tr>\n",
              "      <th>4</th>\n",
              "      <td>25.807401</td>\n",
              "      <td>3.995</td>\n",
              "    </tr>\n",
              "  </tbody>\n",
              "</table>\n",
              "</div>"
            ],
            "text/plain": [
              "       speed  distance\n",
              "0  19.210586     2.652\n",
              "1  30.848229     5.290\n",
              "2  13.560101     0.918\n",
              "3  19.766679     7.700\n",
              "4  25.807401     3.995"
            ]
          },
          "metadata": {
            "tags": []
          },
          "execution_count": 117
        }
      ]
    },
    {
      "cell_type": "code",
      "metadata": {
        "id": "TVMHb_Of1LDK",
        "colab_type": "code",
        "outputId": "db9b0195-aab9-48a0-893c-025cf7fbc293",
        "colab": {
          "base_uri": "https://localhost:8080/",
          "height": 295
        }
      },
      "source": [
        "wcss = []\n",
        "for i in range(1, 11):\n",
        "    kmeans = KMeans(n_clusters = i, init = 'k-means++', random_state = 42)\n",
        "    kmeans.fit(df_x)\n",
        "    wcss.append(kmeans.inertia_)\n",
        "plt.plot(range(1, 11), wcss)\n",
        "plt.title('Elbow Method')\n",
        "plt.xlabel('Jumlah Cluster')\n",
        "plt.ylabel('WCSS')\n",
        "plt.show()"
      ],
      "execution_count": 118,
      "outputs": [
        {
          "output_type": "display_data",
          "data": {
            "image/png": "[encoded data removed]",
            "text/plain": [
              "<Figure size 432x288 with 1 Axes>"
            ]
          },
          "metadata": {
            "tags": []
          }
        }
      ]
    },
    {
      "cell_type": "code",
      "metadata": {
        "id": "OHt7P1Tns2_u",
        "colab_type": "code",
        "colab": {}
      },
      "source": [
        "k = 3\n",
        "centroids = {\n",
        "    i+1 : [np.random.randint(0,80), np.random.randint(0,80)]\n",
        "    for i in range(k)\n",
        "}"
      ],
      "execution_count": 0,
      "outputs": []
    },
    {
      "cell_type": "code",
      "metadata": {
        "id": "xsNd9Lq8xC3L",
        "colab_type": "code",
        "outputId": "cb787000-cd12-485a-d02a-852dd3333aea",
        "colab": {
          "base_uri": "https://localhost:8080/",
          "height": 342
        }
      },
      "source": [
        "fig = plt.figure(figsize=(5,5))\n",
        "plt.scatter(df['distance'], df['speed'], color = 'k')\n",
        "colmap = {1: 'r' , 2: 'g' , 3: 'b'}\n",
        "for i in centroids.keys() :\n",
        "    plt.scatter(*centroids[i], color=colmap[i])\n",
        "\n",
        "plt.xlim(0,80)\n",
        "plt.ylim(0,80)\n",
        "plt.show"
      ],
      "execution_count": 0,
      "outputs": [
        {
          "output_type": "execute_result",
          "data": {
            "text/plain": [
              "<function matplotlib.pyplot.show>"
            ]
          },
          "metadata": {
            "tags": []
          },
          "execution_count": 104
        },
        {
          "output_type": "display_data",
          "data": {
            "image/png": "[encoded data removed]",
            "text/plain": [
              "<Figure size 360x360 with 1 Axes>"
            ]
          },
          "metadata": {
            "tags": []
          }
        }
      ]
    },
    {
      "cell_type": "code",
      "metadata": {
        "id": "B980O_dCzlMB",
        "colab_type": "code",
        "outputId": "daa0a8bc-1caf-4221-8262-ddd2192f49e3",
        "colab": {
          "base_uri": "https://localhost:8080/",
          "height": 487
        }
      },
      "source": [
        "def assigment(df, centroids):\n",
        "    for i in centroids.keys() :\n",
        "        df['distance_from_{}'.format(i)] = (\n",
        "            np.sqrt(\n",
        "                (df['distance'] - centroids[i][0]) ** 2\n",
        "                + (df['speed'] - centroids[i][1]) ** 2\n",
        "            )\n",
        "        )\n",
        "    centroids_distance_cols = ['distance_from_{}'.format(i) for i in centroids.keys()]\n",
        "    df['closest'] = df.loc[:, centroids_distance_cols].idxmin(axis = 1)\n",
        "    df['closest'] = df['closest'].map(lambda x: int(x.lstrip('distance_from_')))\n",
        "    df['color'] = df['closest'].map(lambda x: colmap[x])\n",
        "\n",
        "    return df\n",
        "\n",
        "df = assigment(df,centroids)\n",
        "print(df.head())\n",
        "\n",
        "fig = plt.figure(figsize=(5,5))\n",
        "plt.scatter(df['distance'], df['speed'], color = df['color'], alpha = 0.5 , edgecolor='k')\n",
        "for i in centroids.keys() :\n",
        "    plt.scatter(*centroids[i], color=colmap[i])\n",
        "\n",
        "plt.xlim(0,80)\n",
        "plt.ylim(0,80)\n",
        "plt.show"
      ],
      "execution_count": 0,
      "outputs": [
        {
          "output_type": "stream",
          "text": [
            "   id  id_android      speed  ...  distance_from_3  closest  color\n",
            "0   1           0  19.210586  ...        39.069157        2      g\n",
            "1   2           0  30.848229  ...        30.227417        2      g\n",
            "2   3           1  13.560101  ...        44.210383        2      g\n",
            "3   4           1  19.766679  ...        35.031564        2      g\n",
            "4   8           0  25.807401  ...        33.950492        2      g\n",
            "\n",
            "[5 rows x 9 columns]\n"
          ],
          "name": "stdout"
        },
        {
          "output_type": "execute_result",
          "data": {
            "text/plain": [
              "<function matplotlib.pyplot.show>"
            ]
          },
          "metadata": {
            "tags": []
          },
          "execution_count": 106
        },
        {
          "output_type": "display_data",
          "data": {
            "image/png": "[encoded data removed]",
            "text/plain": [
              "<Figure size 360x360 with 1 Axes>"
            ]
          },
          "metadata": {
            "tags": []
          }
        }
      ]
    },
    {
      "cell_type": "code",
      "metadata": {
        "id": "wh-sxI4KzyAd",
        "colab_type": "code",
        "outputId": "3b0406c1-e9c7-4269-db59-d8a9c82ff16c",
        "colab": {
          "base_uri": "https://localhost:8080/",
          "height": 324
        }
      },
      "source": [
        "import copy\n",
        "\n",
        "old_centroids = copy.deepcopy(centroids)\n",
        "def update(k) :\n",
        "    for i in centroids.keys() :\n",
        "        centroids[i][0] = np.mean(df[df['closest'] == i ]['distance'])\n",
        "        centroids[i][1] = np.mean(df[df['closest'] == i ]['speed'])\n",
        "    \n",
        "    return k\n",
        "\n",
        "centroids = update(centroids)\n",
        "\n",
        "fig = plt.figure(figsize = (5,5))\n",
        "\n",
        "ax = plt.axes()\n",
        "plt.scatter(df['distance'], df['speed'], color = df['color'], alpha = 0.5 , edgecolor='k')\n",
        "for i in centroids.keys() :\n",
        "    plt.scatter(*centroids[i], color=colmap[i])\n",
        "\n",
        "plt.xlim(0,100)\n",
        "plt.ylim(0,100)\n",
        "\n",
        "for i in old_centroids.keys() :\n",
        "    old_x = old_centroids[i][0]\n",
        "    old_y = old_centroids[i][1]\n",
        "    dx = (centroids[i][0] - old_centroids[i][0]) * 0.75\n",
        "    dy = (centroids[i][1] - old_centroids[i][1]) * 0.75\n",
        "\n",
        "    ax.arrow(old_x, old_y, dx, dy, head_width = 2, head_length = 3, fc=colmap[i], ec = colmap[i])\n",
        "\n",
        "plt.show()"
      ],
      "execution_count": 0,
      "outputs": [
        {
          "output_type": "display_data",
          "data": {
            "image/png": "[encoded data removed]",
            "text/plain": [
              "<Figure size 360x360 with 1 Axes>"
            ]
          },
          "metadata": {
            "tags": []
          }
        }
      ]
    },
    {
      "cell_type": "code",
      "metadata": {
        "id": "irpu3aP50C8Y",
        "colab_type": "code",
        "outputId": "2d5bc360-e430-43bd-b682-da29053289bb",
        "colab": {
          "base_uri": "https://localhost:8080/",
          "height": 324
        }
      },
      "source": [
        "df = assigment(df,centroids)\n",
        "\n",
        "fig = plt.figure(figsize = (5,5))\n",
        "plt.scatter(df['distance'], df['speed'], color = df['color'], alpha = 0.5 , edgecolor='k')\n",
        "for i in centroids.keys() :\n",
        "    plt.scatter(*centroids[i], color=colmap[i])\n",
        "\n",
        "plt.xlim(0,80)\n",
        "plt.ylim(0,80)\n",
        "plt.show()"
      ],
      "execution_count": 0,
      "outputs": [
        {
          "output_type": "display_data",
          "data": {
            "image/png": "[encoded data removed]",
            "text/plain": [
              "<Figure size 360x360 with 1 Axes>"
            ]
          },
          "metadata": {
            "tags": []
          }
        }
      ]
    },
    {
      "cell_type": "code",
      "metadata": {
        "id": "AL0PxHLV0VhV",
        "colab_type": "code",
        "outputId": "b83aa9a5-0077-469e-ba59-963c4aa8f658",
        "colab": {
          "base_uri": "https://localhost:8080/",
          "height": 324
        }
      },
      "source": [
        "while True :\n",
        "    closest_centroids = df['closest'].copy(deep=True)\n",
        "    centroids = update(centroids)\n",
        "    df = assigment(df,centroids)\n",
        "\n",
        "    if closest_centroids.equals(df['closest']) :\n",
        "        break\n",
        "\n",
        "fig = plt.figure(figsize = (5,5))\n",
        "plt.scatter(df['distance'], df['speed'], color = df['color'], alpha = 0.5 , edgecolor='k')\n",
        "for i in centroids.keys() :\n",
        "    plt.scatter(*centroids[i], color=colmap[i])\n",
        "\n",
        "plt.xlim(0,80)\n",
        "plt.ylim(0,80)\n",
        "plt.show()"
      ],
      "execution_count": 0,
      "outputs": [
        {
          "output_type": "display_data",
          "data": {
            "image/png": "[encoded data removed]",
            "text/plain": [
              "<Figure size 360x360 with 1 Axes>"
            ]
          },
          "metadata": {
            "tags": []
          }
        }
      ]
    },
    {
      "cell_type": "code",
      "metadata": {
        "id": "Jz2k_1Xz0gmJ",
        "colab_type": "code",
        "colab": {}
      },
      "source": [
        ""
      ],
      "execution_count": 0,
      "outputs": []
    }
  ]
}